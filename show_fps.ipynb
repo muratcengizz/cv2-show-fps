{
 "cells": [
  {
   "cell_type": "code",
   "execution_count": 2,
   "id": "4b8506ac-c6a9-4138-b8bf-9ce9fda65426",
   "metadata": {},
   "outputs": [],
   "source": [
    "import cv2\n",
    "import time\n",
    "import mediapipe as mp"
   ]
  },
  {
   "cell_type": "code",
   "execution_count": 7,
   "id": "43c232d0-1c12-4372-abdb-e8a3b9298dcf",
   "metadata": {},
   "outputs": [],
   "source": [
    "cap = cv2.VideoCapture(0)\n",
    "\n",
    "frame_sayisi = 0\n",
    "baslangic_zamani = time.time()\n",
    "\n",
    "while True:\n",
    "    ret, frame = cap.read()\n",
    "    \n",
    "    if not ret:\n",
    "        break\n",
    "    \n",
    "    frame = cv2.flip(src=frame, flipCode=1)\n",
    "    \n",
    "    frame_sayisi += 1\n",
    "    gecen_zaman = time.time() - baslangic_zamani\n",
    "    fps = frame_sayisi / gecen_zaman\n",
    "    cv2.putText(img=frame, \n",
    "                text=f\"FPS: {round(fps, 2)}\", \n",
    "                org=(10, 30), \n",
    "                fontFace=cv2.FONT_HERSHEY_SIMPLEX,\n",
    "                fontScale=1,\n",
    "                color=(0, 0, 255),\n",
    "                thickness=2)\n",
    "    cv2.imshow(winname='FPS', mat=frame)\n",
    "    \n",
    "    if cv2.waitKey(1) == ord('q'):\n",
    "        break\n",
    "cv2.destroyAllWindows()"
   ]
  }
 ],
 "metadata": {
  "kernelspec": {
   "display_name": "Python 3 (ipykernel)",
   "language": "python",
   "name": "python3"
  },
  "language_info": {
   "codemirror_mode": {
    "name": "ipython",
    "version": 3
   },
   "file_extension": ".py",
   "mimetype": "text/x-python",
   "name": "python",
   "nbconvert_exporter": "python",
   "pygments_lexer": "ipython3",
   "version": "3.9.12"
  }
 },
 "nbformat": 4,
 "nbformat_minor": 5
}
